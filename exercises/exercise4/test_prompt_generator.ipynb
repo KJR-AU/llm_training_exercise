{
 "cells": [
  {
   "cell_type": "markdown",
   "metadata": {},
   "source": [
    "# Test Prompt Generation"
   ]
  },
  {
   "cell_type": "markdown",
   "metadata": {},
   "source": [
    "## With example"
   ]
  },
  {
   "cell_type": "code",
   "execution_count": null,
   "metadata": {},
   "outputs": [],
   "source": [
    "# Define general LLM without any instruction\n",
    "from langchain_openai import ChatOpenAI\n",
    "from langchain_core.output_parsers import StrOutputParser\n",
    "\n",
    "llm = ChatOpenAI(temperature=0, model=\"gpt-3.5-turbo\")\n",
    "simple_chain = llm | StrOutputParser()"
   ]
  },
  {
   "cell_type": "code",
   "execution_count": null,
   "metadata": {},
   "outputs": [],
   "source": [
    "import os, sys\n",
    "sys.path.append(os.path.abspath(os.path.join(os.path.dirname('__file__'), '..', '..')))\n",
    "from util.test_prompt_generator import GenerateTestPrompts\n",
    "\n",
    "# Define Generator using the LLM and get list of input to use as example from a file called \"test_prompts.json\"\n",
    "generator = GenerateTestPrompts(chain = simple_chain, prompt_file=\"test_prompts\")\n",
    "print(\"Generator now has these examples: \", generator.example_inputs)"
   ]
  },
  {
   "cell_type": "code",
   "execution_count": null,
   "metadata": {},
   "outputs": [],
   "source": [
    "# Run generator to generate test prompts using the examples above\n",
    "print(\"Create test_breath X test_depth number of test prompts using examples: \", generator.example_inputs)\n",
    "\n",
    "#test_breath is number of categories and test_depth is number of input for each categories.\n",
    "generated_prompts = generator.generate_test_prompts(test_breadth = 2,test_depth = 3)\n",
    "\n",
    "import json\n",
    "print(json.dumps(generated_prompts, indent=4))"
   ]
  },
  {
   "cell_type": "code",
   "execution_count": null,
   "metadata": {},
   "outputs": [],
   "source": [
    "# Generate a file \"generated_prompts.json\" with the generated prompts formatted.\n",
    "generator.export_to_json_file(generated_prompts, filename=\"generated_prompts\")"
   ]
  },
  {
   "cell_type": "code",
   "execution_count": null,
   "metadata": {},
   "outputs": [],
   "source": [
    "generated_prompts_selection = generator.filter_categories(test_set=generated_prompts)\n",
    "print(json.dumps(generated_prompts_selection, indent=4))"
   ]
  },
  {
   "cell_type": "code",
   "execution_count": null,
   "metadata": {},
   "outputs": [],
   "source": [
    "# Generate a file \"generated_prompts.json\" with the generated prompts formatted.\n",
    "generator.export_to_json_file(generated_prompts_selection, filename=\"generated_prompts_selected\")"
   ]
  },
  {
   "cell_type": "markdown",
   "metadata": {},
   "source": [
    "## Without example"
   ]
  },
  {
   "cell_type": "code",
   "execution_count": null,
   "metadata": {},
   "outputs": [],
   "source": [
    "# Define general LLM without any instruction\n",
    "from langchain_openai import ChatOpenAI\n",
    "from langchain_core.output_parsers import StrOutputParser\n",
    "\n",
    "llm = ChatOpenAI(temperature=0, model=\"gpt-3.5-turbo\")\n",
    "simple_chain = llm | StrOutputParser()"
   ]
  },
  {
   "cell_type": "code",
   "execution_count": null,
   "metadata": {},
   "outputs": [],
   "source": [
    "# Can also generate without any examples too.\n",
    "import os, sys, json\n",
    "sys.path.append(os.path.abspath(os.path.join(os.path.dirname('__file__'), '..', '..')))\n",
    "from util.test_prompt_generator import GenerateTestPrompts\n",
    "\n",
    "generator_no_example = GenerateTestPrompts()\n",
    "generated_prompts_no_example = generator_no_example.generate_test_prompts(test_breadth=2,test_depth=3)\n",
    "print(json.dumps(generated_prompts_no_example, indent=4))"
   ]
  },
  {
   "cell_type": "code",
   "execution_count": null,
   "metadata": {},
   "outputs": [],
   "source": [
    "# Generate a file \"generated_prompts.json\" with the generated prompts formatted.\n",
    "generator_no_example.export_to_json_file(generated_prompts_no_example, filename=\"generated_prompts_no_example\")"
   ]
  }
 ],
 "metadata": {
  "kernelspec": {
   "display_name": ".venv",
   "language": "python",
   "name": "python3"
  },
  "language_info": {
   "codemirror_mode": {
    "name": "ipython",
    "version": 3
   },
   "file_extension": ".py",
   "mimetype": "text/x-python",
   "name": "python",
   "nbconvert_exporter": "python",
   "pygments_lexer": "ipython3",
   "version": "3.10.0"
  }
 },
 "nbformat": 4,
 "nbformat_minor": 2
}
