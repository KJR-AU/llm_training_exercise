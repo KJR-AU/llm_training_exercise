{
 "cells": [
  {
   "cell_type": "markdown",
   "metadata": {},
   "source": [
    "# Exercise 4b - Side by Side Comparisons\n",
    "In this exercise you'll evaluate the performance of two RAG applications side-by-side."
   ]
  },
  {
   "cell_type": "code",
   "execution_count": null,
   "metadata": {},
   "outputs": [],
   "source": [
    "%load_ext dotenv\n",
    "%dotenv ../../.env"
   ]
  },
  {
   "cell_type": "markdown",
   "metadata": {},
   "source": [
    "Similar to exercise 4a, first the config files are loaded to configure our RAG applications. In this exercise, we configure two RAG applications which we'll compare side by side."
   ]
  },
  {
   "cell_type": "code",
   "execution_count": null,
   "metadata": {},
   "outputs": [],
   "source": [
    "import os\n",
    "import json\n",
    "from pathlib import Path\n",
    "\n",
    "current_dir_path: Path = Path(\".\")\n",
    "\n",
    "config_1_file_name: str = \"config-4a.json\"\n",
    "config_1_path: Path = current_dir_path / config_1_file_name\n",
    "\n",
    "config_2_file_name: str = \"config-4b.json\"\n",
    "config_2_path: Path = current_dir_path / config_2_file_name\n",
    "\n",
    "with config_1_path.open() as f1:\n",
    "    config_1 = json.load(f1)\n",
    "\n",
    "with config_2_path.open() as f2:\n",
    "    config_2 = json.load(f2)"
   ]
  },
  {
   "cell_type": "code",
   "execution_count": null,
   "metadata": {},
   "outputs": [],
   "source": [
    "import sys\n",
    "sys.path.append(str(current_dir_path.resolve().parent.parent))\n",
    "from llm_application.azure_information_assistant_accelerator.wrapper import RAG_from_scratch\n",
    "\n",
    "rag_chain_1 = RAG_from_scratch(config_data=config_1)\n",
    "rag_chain_2 = RAG_from_scratch(config_data=config_2)"
   ]
  },
  {
   "cell_type": "markdown",
   "metadata": {},
   "source": []
  },
  {
   "cell_type": "code",
   "execution_count": null,
   "metadata": {},
   "outputs": [],
   "source": [
    "from kjr_llm.app import App\n",
    "from kjr_llm.targets import CustomTarget\n",
    "\n",
    "app = App(app_name=\"RAG_Application\", reset_database=True)\n",
    "\n",
    "target_1: CustomTarget = CustomTarget(rag_chain_1)\n",
    "target_2: CustomTarget = CustomTarget(rag_chain_2)"
   ]
  },
  {
   "cell_type": "code",
   "execution_count": null,
   "metadata": {},
   "outputs": [],
   "source": [
    "from kjr_llm.prompts import PromptSet\n",
    "\n",
    "prompts_path_1: Path = current_dir_path / 'relevance-4a.json'\n",
    "prompts_1 = PromptSet.from_json_file(prompts_path_1)\n",
    "\n",
    "prompts_path_2: Path = current_dir_path / 'relevance-4b.json'\n",
    "prompts_2 = PromptSet.from_json_file(prompts_path_2)"
   ]
  },
  {
   "cell_type": "code",
   "execution_count": null,
   "metadata": {},
   "outputs": [],
   "source": [
    "from kjr_llm.metrics import AnswerRelevance, Groundedness\n",
    "from trulens.core.schema import Select\n",
    "\n",
    "context_path = Select.Record.app.retrieve.rets[:]\n",
    "metrics = [\n",
    "    AnswerRelevance().openai,\n",
    "    Groundedness(context_path).openai\n",
    "]"
   ]
  },
  {
   "cell_type": "code",
   "execution_count": null,
   "metadata": {},
   "outputs": [],
   "source": [
    "from kjr_llm.tests import TestSet\n",
    "from kjr_llm.provider import OpenAIProvider\n",
    "\n",
    "test_set = TestSet(prompts_1, metrics, name=\"Exercise-4b\",\n",
    "                   default_provider=OpenAIProvider(model_name=\"gpt-3.5-turbo\"))\n",
    "\n",
    "targets = [target_1, target_2]\n",
    "\n",
    "for i, target in enumerate(targets):\n",
    "    test_set.evaluate(target, app_id=f\"Exercise4b-app{i}\")\n",
    "\n",
    "app.run_dashboard()"
   ]
  },
  {
   "cell_type": "code",
   "execution_count": null,
   "metadata": {},
   "outputs": [],
   "source": []
  }
 ],
 "metadata": {
  "kernelspec": {
   "display_name": "Python 3.11.4 64-bit",
   "language": "python",
   "name": "python3"
  },
  "language_info": {
   "codemirror_mode": {
    "name": "ipython",
    "version": 3
   },
   "file_extension": ".py",
   "mimetype": "text/x-python",
   "name": "python",
   "nbconvert_exporter": "python",
   "pygments_lexer": "ipython3",
   "version": "3.11.4"
  },
  "orig_nbformat": 4,
  "vscode": {
   "interpreter": {
    "hash": "949777d72b0d2535278d3dc13498b2535136f6dfe0678499012e853ee9abcab1"
   }
  }
 },
 "nbformat": 4,
 "nbformat_minor": 2
}
