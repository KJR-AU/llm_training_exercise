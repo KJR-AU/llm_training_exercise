{
 "cells": [
  {
   "cell_type": "markdown",
   "metadata": {},
   "source": [
    "# Risk Identification\n",
    "\n",
    "| Ethical Quality   | Risk    | Liklihood   | Impact    |\n",
    "| ------------------|---------|-------------|-----------|\n",
    "| Beneficial | Lorem ipsum dolor sit amet, consectetur adipiscing elit. Cras malesuada ex et dui cursus, ac consequat leo commodo. Fusce pulvinar neque risus, in molestie nulla accumsan ut.  | L | H|\n",
    "| Human-centered | | | |\n",
    "| Fairness | | | |\n",
    "| Privacy | | | |\n",
    "| Reliability & Safety | | | |\n",
    "| Explainability | | | |\n",
    "| Contestability | | | |\n",
    "| Accountability | | | |\n"
   ]
  },
  {
   "cell_type": "markdown",
   "metadata": {},
   "source": [
    "# Test Planning\n",
    "\n",
    "### What Tests should be run?\n",
    "* Lorem ipsum dolor sit amet, consectetur adipiscing elit. \n",
    "\n",
    "\n",
    "### What data will you need?\n",
    "* Lorem ipsum dolor sit amet, consectetur adipiscing elit. \n",
    "\n",
    "\n",
    "### What metrics are relevant?\n",
    "*Lorem ipsum dolor sit amet, consectetur adipiscing elit. \n",
    "\n",
    "\n",
    "### Which metrics should be prioritised?\n",
    "* Lorem ipsum dolor sit amet, consectetur adipiscing elit. \n",
    "\n"
   ]
  }
 ],
 "metadata": {
  "language_info": {
   "name": "python"
  }
 },
 "nbformat": 4,
 "nbformat_minor": 2
}
